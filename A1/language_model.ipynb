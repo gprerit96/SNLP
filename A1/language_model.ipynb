{
 "cells": [
  {
   "cell_type": "markdown",
   "metadata": {},
   "source": [
    "## Build unigram dictionary"
   ]
  },
  {
   "cell_type": "code",
   "execution_count": 4,
   "metadata": {},
   "outputs": [
    {
     "name": "stdout",
     "output_type": "stream",
     "text": [
      "Counter({'a': 0.5454545454545454, 'b': 0.45454545454545453})\n"
     ]
    }
   ],
   "source": [
    "import nltk\n",
    "from nltk.corpus import brown\n",
    "from nltk import bigrams, ngrams, trigrams\n",
    "\n",
    "sentences=['a b a','b a a b','a a a','b a b b','b b a b','a a a b'] # data \n",
    "\n",
    "unigrams=[]\n",
    "\n",
    "for elem in sentences:\n",
    "    unigrams.extend(elem.split())\n",
    "   \n",
    "from collections import Counter\n",
    "unigram_counts=Counter(unigrams)\n",
    "unigram_total=len(unigrams)\n",
    "\n",
    "for word in unigram_counts:\n",
    "    unigram_counts[word]/=unigram_total\n",
    " \n",
    "print(unigram_counts)"
   ]
  },
  {
   "cell_type": "markdown",
   "metadata": {},
   "source": [
    "## Build bigram dictionary"
   ]
  },
  {
   "cell_type": "code",
   "execution_count": 5,
   "metadata": {},
   "outputs": [
    {
     "name": "stdout",
     "output_type": "stream",
     "text": [
      "{None: {'a': 0.5, 'b': 0.5}, 'a': {'b': 0.4166666666666667, None: 0.16666666666666666, 'a': 0.4166666666666667}, 'b': {'a': 0.4, None: 0.4, 'b': 0.2}}\n"
     ]
    }
   ],
   "source": [
    "def bigram_model(sentences):\n",
    "    model={}\n",
    "    for sent in sentences:\n",
    "         for w1,w2 in ngrams(sent.split(),2, pad_left=True,pad_right=True):\n",
    "            if w1 not in model:\n",
    "                model[w1]={}\n",
    "            if w2 not in model[w1]:\n",
    "                model[w1][w2]=0\n",
    "            model[w1][w2]+=1\n",
    "    for w1 in model:\n",
    "        tot_count=float(sum(model[w1].values()))\n",
    "        for w2 in model[w1]:\n",
    "            model[w1][w2]/=tot_count\n",
    "     \n",
    "    return model\n",
    "\n",
    "bigram_counts= bigram_model(sentences)\n",
    "print(bigram_counts)"
   ]
  },
  {
   "cell_type": "markdown",
   "metadata": {},
   "source": [
    "## Build trigram dictionary"
   ]
  },
  {
   "cell_type": "code",
   "execution_count": 6,
   "metadata": {},
   "outputs": [
    {
     "name": "stdout",
     "output_type": "stream",
     "text": [
      "{(None, None): {'a': 0.5, 'b': 0.5}, (None, 'a'): {'b': 0.3333333333333333, 'a': 0.6666666666666666}, ('a', 'b'): {'a': 0.2, None: 0.6, 'b': 0.2}, ('b', 'a'): {None: 0.25, 'a': 0.25, 'b': 0.5}, ('a', None): {None: 1.0}, (None, 'b'): {'a': 0.6666666666666666, 'b': 0.3333333333333333}, ('a', 'a'): {'b': 0.4, 'a': 0.4, None: 0.2}, ('b', None): {None: 1.0}, ('b', 'b'): {None: 0.5, 'a': 0.5}}\n"
     ]
    }
   ],
   "source": [
    "def trigram_model(sentences):\n",
    "    model={}\n",
    "    for sent in sentences:\n",
    "         for w1,w2,w3 in ngrams(sent.split(),3, pad_left=True,pad_right=True):\n",
    "            if (w1,w2) not in model:\n",
    "                model[(w1,w2)]={}\n",
    "            if w3 not in model[(w1,w2)]:\n",
    "                model[(w1,w2)][w3]=0\n",
    "            model[(w1,w2)][w3]+=1\n",
    "    for (w1,w2) in model:\n",
    "        tot_count=float(sum(model[(w1,w2)].values()))\n",
    "        for w3 in model[(w1,w2)]:\n",
    "            model[(w1,w2)][w3]/=tot_count\n",
    "     \n",
    "    return model\n",
    "\n",
    "trigram_counts= trigram_model(sentences)\n",
    "print(trigram_counts)"
   ]
  },
  {
   "cell_type": "markdown",
   "metadata": {},
   "source": [
    "## Test Scores of each model"
   ]
  },
  {
   "cell_type": "code",
   "execution_count": 1,
   "metadata": {},
   "outputs": [
    {
     "ename": "ModuleNotFoundError",
     "evalue": "No module named 'numpy'",
     "output_type": "error",
     "traceback": [
      "\u001b[0;31m---------------------------------------------------------------------------\u001b[0m",
      "\u001b[0;31mModuleNotFoundError\u001b[0m                       Traceback (most recent call last)",
      "\u001b[0;32m<ipython-input-1-42268c4d0925>\u001b[0m in \u001b[0;36m<module>\u001b[0;34m()\u001b[0m\n\u001b[1;32m      1\u001b[0m \u001b[0mtest_sentences\u001b[0m\u001b[0;34m=\u001b[0m\u001b[0;34m[\u001b[0m\u001b[0;34m'a b a b'\u001b[0m\u001b[0;34m,\u001b[0m\u001b[0;34m'b a b a'\u001b[0m\u001b[0;34m,\u001b[0m\u001b[0;34m'a b b'\u001b[0m\u001b[0;34m,\u001b[0m\u001b[0;34m'b a a a a a b'\u001b[0m\u001b[0;34m,\u001b[0m\u001b[0;34m'a a a'\u001b[0m\u001b[0;34m,\u001b[0m\u001b[0;34m'b b b b a'\u001b[0m\u001b[0;34m]\u001b[0m\u001b[0;34m\u001b[0m\u001b[0m\n\u001b[1;32m      2\u001b[0m \u001b[0;34m\u001b[0m\u001b[0m\n\u001b[0;32m----> 3\u001b[0;31m \u001b[0;32mimport\u001b[0m \u001b[0mnumpy\u001b[0m \u001b[0;32mas\u001b[0m \u001b[0mnp\u001b[0m\u001b[0;34m\u001b[0m\u001b[0m\n\u001b[0m\u001b[1;32m      4\u001b[0m \u001b[0;34m\u001b[0m\u001b[0m\n\u001b[1;32m      5\u001b[0m \u001b[0mtest_unigram_arr\u001b[0m\u001b[0;34m=\u001b[0m\u001b[0;34m[\u001b[0m\u001b[0;34m]\u001b[0m\u001b[0;34m\u001b[0m\u001b[0m\n",
      "\u001b[0;31mModuleNotFoundError\u001b[0m: No module named 'numpy'"
     ]
    }
   ],
   "source": [
    "test_sentences=['a b a b','b a b a','a b b','b a a a a a b','a a a','b b b b a']\n",
    "\n",
    "import numpy as np\n",
    "\n",
    "test_unigram_arr=[]\n",
    "\n",
    "print('Unigram test probabilities\\n')\n",
    "for elem in test_sentences:\n",
    "    p_val=np.prod([unigram_counts[i] for i in elem.split()])\n",
    "    test_unigram_arr.append(p_val)\n",
    "    print('The sequence '+elem+' has unigram probablity of '+ str(round(p_val,4)))\n",
    "\n",
    "\n",
    "print('\\nBigram test probabilities\\n')\n",
    "\n",
    "test_bigram_arr=[]\n",
    "\n",
    "for elem in test_sentences:\n",
    "    p_val=1\n",
    "    for w1,w2 in bigrams(elem.split(),pad_left=True,pad_right=True):\n",
    "        p_val*=bigram_counts[w1][w2]\n",
    "    print('The sequence '+ elem +' has bigram probablity of '+ str(round(p_val,4)))\n",
    "    \n",
    "    test_bigram_arr.append(p_val)\n",
    "\n",
    "\n",
    "test_trigram_arr=[]\n",
    "print('\\nTrigram test probabilities\\n')\n",
    "for elem in test_sentences:\n",
    "    p_val=1\n",
    "    for w1,w2,w3 in trigrams(elem.split(),pad_left=True,pad_right=True):\n",
    "        try:\n",
    "            p_val*=trigram_counts[(w1,w2)][w3]\n",
    "        except Exception as e:\n",
    "            p_val=0\n",
    "            break\n",
    "    print('The sequence '+ elem +' has trigram probablity of '+ str(round(p_val,4)))\n",
    "    \n",
    "    test_trigram_arr.append(p_val)\n",
    "            "
   ]
  },
  {
   "cell_type": "code",
   "execution_count": 2,
   "metadata": {},
   "outputs": [
    {
     "ename": "ModuleNotFoundError",
     "evalue": "No module named 'matplotlib'",
     "output_type": "error",
     "traceback": [
      "\u001b[0;31m---------------------------------------------------------------------------\u001b[0m",
      "\u001b[0;31mModuleNotFoundError\u001b[0m                       Traceback (most recent call last)",
      "\u001b[0;32m<ipython-input-2-061f8d065ccb>\u001b[0m in \u001b[0;36m<module>\u001b[0;34m()\u001b[0m\n\u001b[0;32m----> 1\u001b[0;31m \u001b[0;32mimport\u001b[0m \u001b[0mmatplotlib\u001b[0m\u001b[0;34m.\u001b[0m\u001b[0mpyplot\u001b[0m \u001b[0;32mas\u001b[0m \u001b[0mplt\u001b[0m\u001b[0;34m\u001b[0m\u001b[0m\n\u001b[0m\u001b[1;32m      2\u001b[0m \u001b[0;34m\u001b[0m\u001b[0m\n\u001b[1;32m      3\u001b[0m \u001b[0mx_axis\u001b[0m\u001b[0;34m=\u001b[0m\u001b[0;34m[\u001b[0m\u001b[0mi\u001b[0m \u001b[0;32mfor\u001b[0m \u001b[0mi\u001b[0m \u001b[0;32min\u001b[0m \u001b[0mrange\u001b[0m\u001b[0;34m(\u001b[0m\u001b[0;36m1\u001b[0m\u001b[0;34m,\u001b[0m\u001b[0;36m4\u001b[0m\u001b[0;34m)\u001b[0m\u001b[0;34m]\u001b[0m\u001b[0;34m\u001b[0m\u001b[0m\n\u001b[1;32m      4\u001b[0m \u001b[0;34m\u001b[0m\u001b[0m\n\u001b[1;32m      5\u001b[0m \u001b[0my_axis\u001b[0m\u001b[0;34m=\u001b[0m\u001b[0;34m[\u001b[0m\u001b[0mnp\u001b[0m\u001b[0;34m.\u001b[0m\u001b[0mmean\u001b[0m\u001b[0;34m(\u001b[0m\u001b[0mtest_unigram_arr\u001b[0m\u001b[0;34m)\u001b[0m\u001b[0;34m,\u001b[0m \u001b[0mnp\u001b[0m\u001b[0;34m.\u001b[0m\u001b[0mmean\u001b[0m\u001b[0;34m(\u001b[0m\u001b[0mtest_bigram_arr\u001b[0m\u001b[0;34m)\u001b[0m\u001b[0;34m,\u001b[0m \u001b[0mnp\u001b[0m\u001b[0;34m.\u001b[0m\u001b[0mmean\u001b[0m\u001b[0;34m(\u001b[0m\u001b[0mtest_trigram_arr\u001b[0m\u001b[0;34m)\u001b[0m\u001b[0;34m]\u001b[0m\u001b[0;34m\u001b[0m\u001b[0m\n",
      "\u001b[0;31mModuleNotFoundError\u001b[0m: No module named 'matplotlib'"
     ]
    }
   ],
   "source": [
    "import matplotlib.pyplot as plt\n",
    "\n",
    "x_axis=[i for i in range(1,4)]\n",
    "\n",
    "y_axis=[np.mean(test_unigram_arr), np.mean(test_bigram_arr), np.mean(test_trigram_arr)]\n",
    "\n",
    "plt.scatter(x_axis,y_axis)\n",
    "plt.show()"
   ]
  },
  {
   "cell_type": "code",
   "execution_count": null,
   "metadata": {
    "collapsed": true
   },
   "outputs": [],
   "source": []
  }
 ],
 "metadata": {
  "kernelspec": {
   "display_name": "Python 3",
   "language": "python",
   "name": "python3"
  },
  "language_info": {
   "codemirror_mode": {
    "name": "ipython",
    "version": 3
   },
   "file_extension": ".py",
   "mimetype": "text/x-python",
   "name": "python",
   "nbconvert_exporter": "python",
   "pygments_lexer": "ipython3",
   "version": "3.6.6"
  }
 },
 "nbformat": 4,
 "nbformat_minor": 2
}
